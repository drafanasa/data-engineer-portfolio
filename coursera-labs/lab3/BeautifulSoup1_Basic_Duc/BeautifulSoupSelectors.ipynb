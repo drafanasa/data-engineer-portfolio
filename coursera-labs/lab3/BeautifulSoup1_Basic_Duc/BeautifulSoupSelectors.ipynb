{
 "cells": [
  {
   "cell_type": "code",
   "execution_count": 18,
   "id": "966b3483-9f5e-464d-8382-0d67d851cdd8",
   "metadata": {},
   "outputs": [
    {
     "name": "stdout",
     "output_type": "stream",
     "text": [
      "<!DOCTYPE html>\n",
      "<html lang=\"en\">\n",
      " <head>\n",
      "  <meta charset=\"utf-8\"/>\n",
      "  <title>\n",
      "   Quotes to Scrape\n",
      "  </title>\n",
      "  <link href=\"/static/bootstrap.min.css\" rel=\"stylesheet\"/>\n",
      "  <link href=\"/static/main.css\" rel=\"stylesheet\"/>\n",
      " </head>\n",
      " <body>\n",
      "  <div class=\"container\">\n",
      "   <div class=\"row header-box\">\n",
      "    <div class=\"col-md-8\">\n",
      "     <h1>\n",
      "      <a href=\"/\" style=\"text-decoration: none\">\n",
      "       Quotes to Scrape\n",
      "      </a>\n",
      "     </h1>\n",
      "    </div>\n",
      "    <div class=\"col-md-4\">\n",
      "     <p>\n",
      "      <a href=\"/login\">\n",
      "       Login\n",
      "      </a>\n",
      "     </p>\n",
      "    </div>\n",
      "   </div>\n",
      "   <div class=\"row\">\n",
      "    <div class=\"col-md-8\">\n",
      "     <div class=\"quote\" itemscope=\"\" itemtype=\"http://schema.org/CreativeWork\">\n",
      "      <span class=\"text\" itemprop=\"text\">\n",
      "       “The world as we have created it is a process of our thinking. It cannot be changed without changing our thinking.”\n",
      "      </span>\n",
      "      <span>\n",
      "       by\n",
      "       <small class=\"author\" itemprop=\"author\">\n",
      "        Albert Einstein\n",
      "       </small>\n",
      "       <a href=\"/author/Albert-Einstein\">\n",
      "        (about)\n",
      "       </a>\n",
      "      </span>\n",
      "      <div class=\"tags\">\n",
      "       Tags:\n",
      "       <meta class=\"keywords\" content=\"change,deep-thoughts,thinking,world\" itemprop=\"keywords\"/>\n",
      "       <a class=\"tag\" href=\"/tag/change/page/1/\">\n",
      "        change\n",
      "       </a>\n",
      "       <a class=\"tag\" href=\"/tag/deep-thoughts/page/1/\">\n",
      "        deep-thoughts\n",
      "       </a>\n",
      "       <a class=\"tag\" href=\"/tag/thinking/page/1/\">\n",
      "        thinking\n",
      "       </a>\n",
      "       <a class=\"tag\" href=\"/tag/world/page/1/\">\n",
      "        world\n",
      "       </a>\n",
      "      </div>\n",
      "     </div>\n",
      "     <div class=\"quote\" itemscope=\"\" itemtype=\"http://schema.org/CreativeWork\">\n",
      "      <span class=\"text\" itemprop=\"text\">\n",
      "       “It is our choices, Harry, that show what we truly are, far more than our abilities.”\n",
      "      </span>\n",
      "      <span>\n",
      "       by\n",
      "       <small class=\"author\" itemprop=\"author\">\n",
      "        J.K. Rowling\n",
      "       </small>\n",
      "       <a href=\"/author/J-K-Rowling\">\n",
      "        (about)\n",
      "       </a>\n",
      "      </span>\n",
      "      <div class=\"tags\">\n",
      "       Tags:\n",
      "       <meta class=\"keywords\" content=\"abilities,choices\" itemprop=\"keywords\"/>\n",
      "       <a class=\"tag\" href=\"/tag/abilities/page/1/\">\n",
      "        abilities\n",
      "       </a>\n",
      "       <a class=\"tag\" href=\"/tag/choices/page/1/\">\n",
      "        choices\n",
      "       </a>\n",
      "      </div>\n",
      "     </div>\n",
      "     <div class=\"quote\" itemscope=\"\" itemtype=\"http://schema.org/CreativeWork\">\n",
      "      <span class=\"text\" itemprop=\"text\">\n",
      "       “There are only two ways to live your life. One is as though nothing is a miracle. The other is as though everything is a miracle.”\n",
      "      </span>\n",
      "      <span>\n",
      "       by\n",
      "       <small class=\"author\" itemprop=\"author\">\n",
      "        Albert Einstein\n",
      "       </small>\n",
      "       <a href=\"/author/Albert-Einstein\">\n",
      "        (about)\n",
      "       </a>\n",
      "      </span>\n",
      "      <div class=\"tags\">\n",
      "       Tags:\n",
      "       <meta class=\"keywords\" content=\"inspirational,life,live,miracle,miracles\" itemprop=\"keywords\"/>\n",
      "       <a class=\"tag\" href=\"/tag/inspirational/page/1/\">\n",
      "        inspirational\n",
      "       </a>\n",
      "       <a class=\"tag\" href=\"/tag/life/page/1/\">\n",
      "        life\n",
      "       </a>\n",
      "       <a class=\"tag\" href=\"/tag/live/page/1/\">\n",
      "        live\n",
      "       </a>\n",
      "       <a class=\"tag\" href=\"/tag/miracle/page/1/\">\n",
      "        miracle\n",
      "       </a>\n",
      "       <a class=\"tag\" href=\"/tag/miracles/page/1/\">\n",
      "        miracles\n",
      "       </a>\n",
      "      </div>\n",
      "     </div>\n",
      "     <div class=\"quote\" itemscope=\"\" itemtype=\"http://schema.org/CreativeWork\">\n",
      "      <span class=\"text\" itemprop=\"text\">\n",
      "       “The person, be it gentleman or lady, who has not pleasure in a good novel, must be intolerably stupid.”\n",
      "      </span>\n",
      "      <span>\n",
      "       by\n",
      "       <small class=\"author\" itemprop=\"author\">\n",
      "        Jane Austen\n",
      "       </small>\n",
      "       <a href=\"/author/Jane-Austen\">\n",
      "        (about)\n",
      "       </a>\n",
      "      </span>\n",
      "      <div class=\"tags\">\n",
      "       Tags:\n",
      "       <meta class=\"keywords\" content=\"aliteracy,books,classic,humor\" itemprop=\"keywords\"/>\n",
      "       <a class=\"tag\" href=\"/tag/aliteracy/page/1/\">\n",
      "        aliteracy\n",
      "       </a>\n",
      "       <a class=\"tag\" href=\"/tag/books/page/1/\">\n",
      "        books\n",
      "       </a>\n",
      "       <a class=\"tag\" href=\"/tag/classic/page/1/\">\n",
      "        classic\n",
      "       </a>\n",
      "       <a class=\"tag\" href=\"/tag/humor/page/1/\">\n",
      "        humor\n",
      "       </a>\n",
      "      </div>\n",
      "     </div>\n",
      "     <div class=\"quote\" itemscope=\"\" itemtype=\"http://schema.org/CreativeWork\">\n",
      "      <span class=\"text\" itemprop=\"text\">\n",
      "       “Imperfection is beauty, madness is genius and it's better to be absolutely ridiculous than absolutely boring.”\n",
      "      </span>\n",
      "      <span>\n",
      "       by\n",
      "       <small class=\"author\" itemprop=\"author\">\n",
      "        Marilyn Monroe\n",
      "       </small>\n",
      "       <a href=\"/author/Marilyn-Monroe\">\n",
      "        (about)\n",
      "       </a>\n",
      "      </span>\n",
      "      <div class=\"tags\">\n",
      "       Tags:\n",
      "       <meta class=\"keywords\" content=\"be-yourself,inspirational\" itemprop=\"keywords\"/>\n",
      "       <a class=\"tag\" href=\"/tag/be-yourself/page/1/\">\n",
      "        be-yourself\n",
      "       </a>\n",
      "       <a class=\"tag\" href=\"/tag/inspirational/page/1/\">\n",
      "        inspirational\n",
      "       </a>\n",
      "      </div>\n",
      "     </div>\n",
      "     <div class=\"quote\" itemscope=\"\" itemtype=\"http://schema.org/CreativeWork\">\n",
      "      <span class=\"text\" itemprop=\"text\">\n",
      "       “Try not to become a man of success. Rather become a man of value.”\n",
      "      </span>\n",
      "      <span>\n",
      "       by\n",
      "       <small class=\"author\" itemprop=\"author\">\n",
      "        Albert Einstein\n",
      "       </small>\n",
      "       <a href=\"/author/Albert-Einstein\">\n",
      "        (about)\n",
      "       </a>\n",
      "      </span>\n",
      "      <div class=\"tags\">\n",
      "       Tags:\n",
      "       <meta class=\"keywords\" content=\"adulthood,success,value\" itemprop=\"keywords\"/>\n",
      "       <a class=\"tag\" href=\"/tag/adulthood/page/1/\">\n",
      "        adulthood\n",
      "       </a>\n",
      "       <a class=\"tag\" href=\"/tag/success/page/1/\">\n",
      "        success\n",
      "       </a>\n",
      "       <a class=\"tag\" href=\"/tag/value/page/1/\">\n",
      "        value\n",
      "       </a>\n",
      "      </div>\n",
      "     </div>\n",
      "     <div class=\"quote\" itemscope=\"\" itemtype=\"http://schema.org/CreativeWork\">\n",
      "      <span class=\"text\" itemprop=\"text\">\n",
      "       “It is better to be hated for what you are than to be loved for what you are not.”\n",
      "      </span>\n",
      "      <span>\n",
      "       by\n",
      "       <small class=\"author\" itemprop=\"author\">\n",
      "        André Gide\n",
      "       </small>\n",
      "       <a href=\"/author/Andre-Gide\">\n",
      "        (about)\n",
      "       </a>\n",
      "      </span>\n",
      "      <div class=\"tags\">\n",
      "       Tags:\n",
      "       <meta class=\"keywords\" content=\"life,love\" itemprop=\"keywords\"/>\n",
      "       <a class=\"tag\" href=\"/tag/life/page/1/\">\n",
      "        life\n",
      "       </a>\n",
      "       <a class=\"tag\" href=\"/tag/love/page/1/\">\n",
      "        love\n",
      "       </a>\n",
      "      </div>\n",
      "     </div>\n",
      "     <div class=\"quote\" itemscope=\"\" itemtype=\"http://schema.org/CreativeWork\">\n",
      "      <span class=\"text\" itemprop=\"text\">\n",
      "       “I have not failed. I've just found 10,000 ways that won't work.”\n",
      "      </span>\n",
      "      <span>\n",
      "       by\n",
      "       <small class=\"author\" itemprop=\"author\">\n",
      "        Thomas A. Edison\n",
      "       </small>\n",
      "       <a href=\"/author/Thomas-A-Edison\">\n",
      "        (about)\n",
      "       </a>\n",
      "      </span>\n",
      "      <div class=\"tags\">\n",
      "       Tags:\n",
      "       <meta class=\"keywords\" content=\"edison,failure,inspirational,paraphrased\" itemprop=\"keywords\"/>\n",
      "       <a class=\"tag\" href=\"/tag/edison/page/1/\">\n",
      "        edison\n",
      "       </a>\n",
      "       <a class=\"tag\" href=\"/tag/failure/page/1/\">\n",
      "        failure\n",
      "       </a>\n",
      "       <a class=\"tag\" href=\"/tag/inspirational/page/1/\">\n",
      "        inspirational\n",
      "       </a>\n",
      "       <a class=\"tag\" href=\"/tag/paraphrased/page/1/\">\n",
      "        paraphrased\n",
      "       </a>\n",
      "      </div>\n",
      "     </div>\n",
      "     <div class=\"quote\" itemscope=\"\" itemtype=\"http://schema.org/CreativeWork\">\n",
      "      <span class=\"text\" itemprop=\"text\">\n",
      "       “A woman is like a tea bag; you never know how strong it is until it's in hot water.”\n",
      "      </span>\n",
      "      <span>\n",
      "       by\n",
      "       <small class=\"author\" itemprop=\"author\">\n",
      "        Eleanor Roosevelt\n",
      "       </small>\n",
      "       <a href=\"/author/Eleanor-Roosevelt\">\n",
      "        (about)\n",
      "       </a>\n",
      "      </span>\n",
      "      <div class=\"tags\">\n",
      "       Tags:\n",
      "       <meta class=\"keywords\" content=\"misattributed-eleanor-roosevelt\" itemprop=\"keywords\"/>\n",
      "       <a class=\"tag\" href=\"/tag/misattributed-eleanor-roosevelt/page/1/\">\n",
      "        misattributed-eleanor-roosevelt\n",
      "       </a>\n",
      "      </div>\n",
      "     </div>\n",
      "     <div class=\"quote\" itemscope=\"\" itemtype=\"http://schema.org/CreativeWork\">\n",
      "      <span class=\"text\" itemprop=\"text\">\n",
      "       “A day without sunshine is like, you know, night.”\n",
      "      </span>\n",
      "      <span>\n",
      "       by\n",
      "       <small class=\"author\" itemprop=\"author\">\n",
      "        Steve Martin\n",
      "       </small>\n",
      "       <a href=\"/author/Steve-Martin\">\n",
      "        (about)\n",
      "       </a>\n",
      "      </span>\n",
      "      <div class=\"tags\">\n",
      "       Tags:\n",
      "       <meta class=\"keywords\" content=\"humor,obvious,simile\" itemprop=\"keywords\"/>\n",
      "       <a class=\"tag\" href=\"/tag/humor/page/1/\">\n",
      "        humor\n",
      "       </a>\n",
      "       <a class=\"tag\" href=\"/tag/obvious/page/1/\">\n",
      "        obvious\n",
      "       </a>\n",
      "       <a class=\"tag\" href=\"/tag/simile/page/1/\">\n",
      "        simile\n",
      "       </a>\n",
      "      </div>\n",
      "     </div>\n",
      "     <nav>\n",
      "      <ul class=\"pager\">\n",
      "       <li class=\"next\">\n",
      "        <a href=\"/page/2/\">\n",
      "         Next\n",
      "         <span aria-hidden=\"true\">\n",
      "          →\n",
      "         </span>\n",
      "        </a>\n",
      "       </li>\n",
      "      </ul>\n",
      "     </nav>\n",
      "    </div>\n",
      "    <div class=\"col-md-4 tags-box\">\n",
      "     <h2>\n",
      "      Top Ten tags\n",
      "     </h2>\n",
      "     <span class=\"tag-item\">\n",
      "      <a class=\"tag\" href=\"/tag/love/\" style=\"font-size: 28px\">\n",
      "       love\n",
      "      </a>\n",
      "     </span>\n",
      "     <span class=\"tag-item\">\n",
      "      <a class=\"tag\" href=\"/tag/inspirational/\" style=\"font-size: 26px\">\n",
      "       inspirational\n",
      "      </a>\n",
      "     </span>\n",
      "     <span class=\"tag-item\">\n",
      "      <a class=\"tag\" href=\"/tag/life/\" style=\"font-size: 26px\">\n",
      "       life\n",
      "      </a>\n",
      "     </span>\n",
      "     <span class=\"tag-item\">\n",
      "      <a class=\"tag\" href=\"/tag/humor/\" style=\"font-size: 24px\">\n",
      "       humor\n",
      "      </a>\n",
      "     </span>\n",
      "     <span class=\"tag-item\">\n",
      "      <a class=\"tag\" href=\"/tag/books/\" style=\"font-size: 22px\">\n",
      "       books\n",
      "      </a>\n",
      "     </span>\n",
      "     <span class=\"tag-item\">\n",
      "      <a class=\"tag\" href=\"/tag/reading/\" style=\"font-size: 14px\">\n",
      "       reading\n",
      "      </a>\n",
      "     </span>\n",
      "     <span class=\"tag-item\">\n",
      "      <a class=\"tag\" href=\"/tag/friendship/\" style=\"font-size: 10px\">\n",
      "       friendship\n",
      "      </a>\n",
      "     </span>\n",
      "     <span class=\"tag-item\">\n",
      "      <a class=\"tag\" href=\"/tag/friends/\" style=\"font-size: 8px\">\n",
      "       friends\n",
      "      </a>\n",
      "     </span>\n",
      "     <span class=\"tag-item\">\n",
      "      <a class=\"tag\" href=\"/tag/truth/\" style=\"font-size: 8px\">\n",
      "       truth\n",
      "      </a>\n",
      "     </span>\n",
      "     <span class=\"tag-item\">\n",
      "      <a class=\"tag\" href=\"/tag/simile/\" style=\"font-size: 6px\">\n",
      "       simile\n",
      "      </a>\n",
      "     </span>\n",
      "    </div>\n",
      "   </div>\n",
      "  </div>\n",
      "  <footer class=\"footer\">\n",
      "   <div class=\"container\">\n",
      "    <p class=\"text-muted\">\n",
      "     Quotes by:\n",
      "     <a href=\"https://www.goodreads.com/quotes\">\n",
      "      GoodReads.com\n",
      "     </a>\n",
      "    </p>\n",
      "    <p class=\"copyright\">\n",
      "     Made with\n",
      "     <span class=\"zyte\">\n",
      "      ❤\n",
      "     </span>\n",
      "     by\n",
      "     <a class=\"zyte\" href=\"https://www.zyte.com\">\n",
      "      Zyte\n",
      "     </a>\n",
      "    </p>\n",
      "   </div>\n",
      "  </footer>\n",
      " </body>\n",
      "</html>\n",
      "\n"
     ]
    }
   ],
   "source": [
    "import requests\n",
    "from bs4 import BeautifulSoup\n",
    "\n",
    "\n",
    "response = requests.get('https://quotes.toscrape.com/')\n",
    "soup = BeautifulSoup(response.text, 'html.parser')\n",
    "print(soup.prettify())"
   ]
  },
  {
   "cell_type": "code",
   "execution_count": null,
   "id": "5d1df964-c48b-46d5-bd68-b967825289ff",
   "metadata": {},
   "outputs": [],
   "source": []
  },
  {
   "cell_type": "markdown",
   "id": "0b809599-5c03-4ed7-bfd9-867d460f2af1",
   "metadata": {},
   "source": [
    "    Find page title element"
   ]
  },
  {
   "cell_type": "code",
   "execution_count": 19,
   "id": "19551e62-3c0b-4bf2-bcc6-65e41b666ad5",
   "metadata": {},
   "outputs": [
    {
     "data": {
      "text/plain": [
       "<title>Quotes to Scrape</title>"
      ]
     },
     "execution_count": 19,
     "metadata": {},
     "output_type": "execute_result"
    }
   ],
   "source": [
    "title = soup.find('title')\n",
    "title"
   ]
  },
  {
   "cell_type": "code",
   "execution_count": 3,
   "id": "b304bb34-5ae5-4bf6-a479-9d31c6aea1ae",
   "metadata": {},
   "outputs": [
    {
     "data": {
      "text/plain": [
       "<title>Quotes to Scrape</title>"
      ]
     },
     "execution_count": 3,
     "metadata": {},
     "output_type": "execute_result"
    }
   ],
   "source": [
    "title = soup.title\n",
    "title"
   ]
  },
  {
   "cell_type": "markdown",
   "id": "35502260-f25c-49fb-83cd-52c69e9a20d9",
   "metadata": {},
   "source": [
    "    Find page title text"
   ]
  },
  {
   "cell_type": "code",
   "execution_count": 4,
   "id": "1365b0e4-23ad-42bd-9a60-5da901efc1b3",
   "metadata": {},
   "outputs": [
    {
     "data": {
      "text/plain": [
       "'Quotes to Scrape'"
      ]
     },
     "execution_count": 4,
     "metadata": {},
     "output_type": "execute_result"
    }
   ],
   "source": [
    "title_text = soup.find('title').text\n",
    "title_text"
   ]
  },
  {
   "cell_type": "code",
   "execution_count": 5,
   "id": "de8804c2-d2aa-4f8c-8efe-fa82c86968cc",
   "metadata": {},
   "outputs": [
    {
     "data": {
      "text/plain": [
       "'Quotes to Scrape'"
      ]
     },
     "execution_count": 5,
     "metadata": {},
     "output_type": "execute_result"
    }
   ],
   "source": [
    "title_text = soup.title.text\n",
    "title_text"
   ]
  },
  {
   "cell_type": "markdown",
   "id": "2f7e091f-1240-4690-8778-493ca412bd9f",
   "metadata": {},
   "source": [
    "    SELECTION"
   ]
  },
  {
   "cell_type": "markdown",
   "id": "064cbe6e-5d03-47f5-bdca-f3219aad1b12",
   "metadata": {},
   "source": [
    "        Select the first quote according to class name"
   ]
  },
  {
   "cell_type": "markdown",
   "id": "c8f826f6-5ff1-4635-9255-7911810c4680",
   "metadata": {},
   "source": [
    "          1. With soup.find -> returns the first element it finds"
   ]
  },
  {
   "cell_type": "code",
   "execution_count": 6,
   "id": "9c34b63e-3886-41af-91dc-ee8098cec168",
   "metadata": {},
   "outputs": [],
   "source": [
    "first_quote = soup.find('div', class_='quote')"
   ]
  },
  {
   "cell_type": "markdown",
   "id": "4fdc2ea0-1116-49d4-917f-045147927836",
   "metadata": {},
   "source": [
    "          2. With soup.find_all -> returns the list of all elements with that class name"
   ]
  },
  {
   "cell_type": "code",
   "execution_count": 7,
   "id": "c21d4eba-8855-4406-a499-6c62e83adcc9",
   "metadata": {},
   "outputs": [],
   "source": [
    "quotes = soup.find_all('div', class_='quote')\n",
    "first_quote = quotes[0]"
   ]
  },
  {
   "cell_type": "markdown",
   "id": "6b077ef5-967a-4379-a0d0-e613d74261e4",
   "metadata": {},
   "source": [
    "        Find the text of first quote using \"itemprop\" attribute"
   ]
  },
  {
   "cell_type": "code",
   "execution_count": 8,
   "id": "bb739a32-be51-4d19-9952-5e7921b1f1c2",
   "metadata": {},
   "outputs": [
    {
     "data": {
      "text/plain": [
       "'“The world as we have created it is a process of our thinking. It cannot be changed without changing our thinking.”'"
      ]
     },
     "execution_count": 8,
     "metadata": {},
     "output_type": "execute_result"
    }
   ],
   "source": [
    "quote_text = first_quote.find('span', attrs={\"itemprop\": \"text\"}).text\n",
    "quote_text"
   ]
  },
  {
   "cell_type": "markdown",
   "id": "2df19e50-bf69-4a76-aa76-d73a5f9665f1",
   "metadata": {},
   "source": [
    "        Select the tags title(Top Ten tags) using the text inside of it"
   ]
  },
  {
   "cell_type": "code",
   "execution_count": 9,
   "id": "f157d888-06ce-454c-a97f-408692b9d4fe",
   "metadata": {},
   "outputs": [
    {
     "data": {
      "text/plain": [
       "<h2>Top Ten tags</h2>"
      ]
     },
     "execution_count": 9,
     "metadata": {},
     "output_type": "execute_result"
    }
   ],
   "source": [
    "tags_title = soup.find('h2', string='Top Ten tags')\n",
    "tags_title"
   ]
  },
  {
   "cell_type": "markdown",
   "id": "3a152e1f-ed26-47a5-a2b8-f6c4068a7210",
   "metadata": {},
   "source": [
    "    NAVIGATION"
   ]
  },
  {
   "cell_type": "markdown",
   "id": "8b61c096-c8ca-41e8-aeea-8b4171a72f81",
   "metadata": {},
   "source": [
    "        Find parent of tags_title"
   ]
  },
  {
   "cell_type": "code",
   "execution_count": 10,
   "id": "887a592c-c474-4bcd-ae27-f17d520d853a",
   "metadata": {},
   "outputs": [
    {
     "data": {
      "text/plain": [
       "<div class=\"col-md-4 tags-box\">\n",
       "<h2>Top Ten tags</h2>\n",
       "<span class=\"tag-item\">\n",
       "<a class=\"tag\" href=\"/tag/love/\" style=\"font-size: 28px\">love</a>\n",
       "</span>\n",
       "<span class=\"tag-item\">\n",
       "<a class=\"tag\" href=\"/tag/inspirational/\" style=\"font-size: 26px\">inspirational</a>\n",
       "</span>\n",
       "<span class=\"tag-item\">\n",
       "<a class=\"tag\" href=\"/tag/life/\" style=\"font-size: 26px\">life</a>\n",
       "</span>\n",
       "<span class=\"tag-item\">\n",
       "<a class=\"tag\" href=\"/tag/humor/\" style=\"font-size: 24px\">humor</a>\n",
       "</span>\n",
       "<span class=\"tag-item\">\n",
       "<a class=\"tag\" href=\"/tag/books/\" style=\"font-size: 22px\">books</a>\n",
       "</span>\n",
       "<span class=\"tag-item\">\n",
       "<a class=\"tag\" href=\"/tag/reading/\" style=\"font-size: 14px\">reading</a>\n",
       "</span>\n",
       "<span class=\"tag-item\">\n",
       "<a class=\"tag\" href=\"/tag/friendship/\" style=\"font-size: 10px\">friendship</a>\n",
       "</span>\n",
       "<span class=\"tag-item\">\n",
       "<a class=\"tag\" href=\"/tag/friends/\" style=\"font-size: 8px\">friends</a>\n",
       "</span>\n",
       "<span class=\"tag-item\">\n",
       "<a class=\"tag\" href=\"/tag/truth/\" style=\"font-size: 8px\">truth</a>\n",
       "</span>\n",
       "<span class=\"tag-item\">\n",
       "<a class=\"tag\" href=\"/tag/simile/\" style=\"font-size: 6px\">simile</a>\n",
       "</span>\n",
       "</div>"
      ]
     },
     "execution_count": 10,
     "metadata": {},
     "output_type": "execute_result"
    }
   ],
   "source": [
    "tag_box = tags_title.parent\n",
    "tag_box"
   ]
  },
  {
   "cell_type": "markdown",
   "id": "669d5022-e7cc-4473-ab88-0e220914e26b",
   "metadata": {},
   "source": [
    "        Find the next sibling of tags_title"
   ]
  },
  {
   "cell_type": "code",
   "execution_count": 11,
   "id": "7de4e134-77ef-48af-9b0b-b37f28e60a87",
   "metadata": {},
   "outputs": [
    {
     "data": {
      "text/plain": [
       "<span class=\"tag-item\">\n",
       "<a class=\"tag\" href=\"/tag/love/\" style=\"font-size: 28px\">love</a>\n",
       "</span>"
      ]
     },
     "execution_count": 11,
     "metadata": {},
     "output_type": "execute_result"
    }
   ],
   "source": [
    "first_tag_span = tags_title.find_next_sibling()\n",
    "first_tag_span"
   ]
  },
  {
   "cell_type": "markdown",
   "id": "721db6fb-32b6-4f3f-904b-69ea3dc476ed",
   "metadata": {},
   "source": [
    "        Find the previous sibling of first_quote_span"
   ]
  },
  {
   "cell_type": "code",
   "execution_count": 12,
   "id": "a9385d60-deb4-483b-a744-3734906f43bf",
   "metadata": {},
   "outputs": [
    {
     "data": {
      "text/plain": [
       "<h2>Top Ten tags</h2>"
      ]
     },
     "execution_count": 12,
     "metadata": {},
     "output_type": "execute_result"
    }
   ],
   "source": [
    "h2_again = first_tag_span.find_previous_sibling()\n",
    "h2_again"
   ]
  },
  {
   "cell_type": "markdown",
   "id": "aa6a2ffb-458b-4c17-9fac-6867e342e813",
   "metadata": {},
   "source": [
    "        Find children of tag box"
   ]
  },
  {
   "cell_type": "code",
   "execution_count": 13,
   "id": "5d4b0c65-2dbc-4a70-a7c4-574883cb6e8e",
   "metadata": {},
   "outputs": [
    {
     "name": "stdout",
     "output_type": "stream",
     "text": [
      "\n",
      "\n",
      "<h2>Top Ten tags</h2>\n",
      "\n",
      "\n",
      "<span class=\"tag-item\">\n",
      "<a class=\"tag\" href=\"/tag/love/\" style=\"font-size: 28px\">love</a>\n",
      "</span>\n",
      "\n",
      "\n",
      "<span class=\"tag-item\">\n",
      "<a class=\"tag\" href=\"/tag/inspirational/\" style=\"font-size: 26px\">inspirational</a>\n",
      "</span>\n",
      "\n",
      "\n",
      "<span class=\"tag-item\">\n",
      "<a class=\"tag\" href=\"/tag/life/\" style=\"font-size: 26px\">life</a>\n",
      "</span>\n",
      "\n",
      "\n",
      "<span class=\"tag-item\">\n",
      "<a class=\"tag\" href=\"/tag/humor/\" style=\"font-size: 24px\">humor</a>\n",
      "</span>\n",
      "\n",
      "\n",
      "<span class=\"tag-item\">\n",
      "<a class=\"tag\" href=\"/tag/books/\" style=\"font-size: 22px\">books</a>\n",
      "</span>\n",
      "\n",
      "\n",
      "<span class=\"tag-item\">\n",
      "<a class=\"tag\" href=\"/tag/reading/\" style=\"font-size: 14px\">reading</a>\n",
      "</span>\n",
      "\n",
      "\n",
      "<span class=\"tag-item\">\n",
      "<a class=\"tag\" href=\"/tag/friendship/\" style=\"font-size: 10px\">friendship</a>\n",
      "</span>\n",
      "\n",
      "\n",
      "<span class=\"tag-item\">\n",
      "<a class=\"tag\" href=\"/tag/friends/\" style=\"font-size: 8px\">friends</a>\n",
      "</span>\n",
      "\n",
      "\n",
      "<span class=\"tag-item\">\n",
      "<a class=\"tag\" href=\"/tag/truth/\" style=\"font-size: 8px\">truth</a>\n",
      "</span>\n",
      "\n",
      "\n",
      "<span class=\"tag-item\">\n",
      "<a class=\"tag\" href=\"/tag/simile/\" style=\"font-size: 6px\">simile</a>\n",
      "</span>\n",
      "\n",
      "\n",
      "<h2>Top Ten tags</h2>\n",
      "<span class=\"tag-item\">\n",
      "<a class=\"tag\" href=\"/tag/love/\" style=\"font-size: 28px\">love</a>\n",
      "</span>\n",
      "<span class=\"tag-item\">\n",
      "<a class=\"tag\" href=\"/tag/inspirational/\" style=\"font-size: 26px\">inspirational</a>\n",
      "</span>\n",
      "<span class=\"tag-item\">\n",
      "<a class=\"tag\" href=\"/tag/life/\" style=\"font-size: 26px\">life</a>\n",
      "</span>\n",
      "<span class=\"tag-item\">\n",
      "<a class=\"tag\" href=\"/tag/humor/\" style=\"font-size: 24px\">humor</a>\n",
      "</span>\n",
      "<span class=\"tag-item\">\n",
      "<a class=\"tag\" href=\"/tag/books/\" style=\"font-size: 22px\">books</a>\n",
      "</span>\n",
      "<span class=\"tag-item\">\n",
      "<a class=\"tag\" href=\"/tag/reading/\" style=\"font-size: 14px\">reading</a>\n",
      "</span>\n",
      "<span class=\"tag-item\">\n",
      "<a class=\"tag\" href=\"/tag/friendship/\" style=\"font-size: 10px\">friendship</a>\n",
      "</span>\n",
      "<span class=\"tag-item\">\n",
      "<a class=\"tag\" href=\"/tag/friends/\" style=\"font-size: 8px\">friends</a>\n",
      "</span>\n",
      "<span class=\"tag-item\">\n",
      "<a class=\"tag\" href=\"/tag/truth/\" style=\"font-size: 8px\">truth</a>\n",
      "</span>\n",
      "<span class=\"tag-item\">\n",
      "<a class=\"tag\" href=\"/tag/simile/\" style=\"font-size: 6px\">simile</a>\n",
      "</span>\n"
     ]
    }
   ],
   "source": [
    "tag_children = tag_box.children\n",
    "list_of_children = list(tag_children)\n",
    "for child in list_of_children:\n",
    "    print(child)\n",
    "final_children = [x for x in list_of_children if x != '\\n']\n",
    "for child in final_children:\n",
    "    print(child)"
   ]
  },
  {
   "cell_type": "code",
   "execution_count": 14,
   "id": "dfc06d82-aefa-4453-bde2-4e123b3eb929",
   "metadata": {},
   "outputs": [
    {
     "data": {
      "text/plain": [
       "[<h2>Top Ten tags</h2>,\n",
       " <span class=\"tag-item\">\n",
       " <a class=\"tag\" href=\"/tag/love/\" style=\"font-size: 28px\">love</a>\n",
       " </span>,\n",
       " <span class=\"tag-item\">\n",
       " <a class=\"tag\" href=\"/tag/inspirational/\" style=\"font-size: 26px\">inspirational</a>\n",
       " </span>,\n",
       " <span class=\"tag-item\">\n",
       " <a class=\"tag\" href=\"/tag/life/\" style=\"font-size: 26px\">life</a>\n",
       " </span>,\n",
       " <span class=\"tag-item\">\n",
       " <a class=\"tag\" href=\"/tag/humor/\" style=\"font-size: 24px\">humor</a>\n",
       " </span>,\n",
       " <span class=\"tag-item\">\n",
       " <a class=\"tag\" href=\"/tag/books/\" style=\"font-size: 22px\">books</a>\n",
       " </span>,\n",
       " <span class=\"tag-item\">\n",
       " <a class=\"tag\" href=\"/tag/reading/\" style=\"font-size: 14px\">reading</a>\n",
       " </span>,\n",
       " <span class=\"tag-item\">\n",
       " <a class=\"tag\" href=\"/tag/friendship/\" style=\"font-size: 10px\">friendship</a>\n",
       " </span>,\n",
       " <span class=\"tag-item\">\n",
       " <a class=\"tag\" href=\"/tag/friends/\" style=\"font-size: 8px\">friends</a>\n",
       " </span>,\n",
       " <span class=\"tag-item\">\n",
       " <a class=\"tag\" href=\"/tag/truth/\" style=\"font-size: 8px\">truth</a>\n",
       " </span>,\n",
       " <span class=\"tag-item\">\n",
       " <a class=\"tag\" href=\"/tag/simile/\" style=\"font-size: 6px\">simile</a>\n",
       " </span>]"
      ]
     },
     "execution_count": 14,
     "metadata": {},
     "output_type": "execute_result"
    }
   ],
   "source": [
    "tag_children = tag_box.children\n",
    "list_of_children = [x for x in list(tag_children) if x != '\\n']\n",
    "list_of_children"
   ]
  },
  {
   "cell_type": "markdown",
   "id": "fe354b0f-a068-4985-a974-28b4651e0433",
   "metadata": {},
   "source": [
    "    EXTRACTION"
   ]
  },
  {
   "cell_type": "markdown",
   "id": "798527d8-19d9-4186-bbda-1f6d9271310e",
   "metadata": {},
   "source": [
    "        Get the href value of top_tag"
   ]
  },
  {
   "cell_type": "code",
   "execution_count": 15,
   "id": "17fe8a7e-088b-494e-be3f-e04c80dca7b0",
   "metadata": {},
   "outputs": [
    {
     "data": {
      "text/plain": [
       "'/tag/love/'"
      ]
     },
     "execution_count": 15,
     "metadata": {},
     "output_type": "execute_result"
    }
   ],
   "source": [
    "top_tag_a = first_tag_span.a\n",
    "top_tag_href = top_tag_a['href']\n",
    "top_tag_href"
   ]
  },
  {
   "cell_type": "markdown",
   "id": "1b36835c-8b60-41e4-8d41-42ae193f3b27",
   "metadata": {},
   "source": [
    "        We can extract any attribute with this method"
   ]
  },
  {
   "cell_type": "code",
   "execution_count": 16,
   "id": "c355120e-17fc-4052-9682-be6d164ad937",
   "metadata": {},
   "outputs": [
    {
     "data": {
      "text/plain": [
       "['tag']"
      ]
     },
     "execution_count": 16,
     "metadata": {},
     "output_type": "execute_result"
    }
   ],
   "source": [
    "top_tag_class = top_tag_a['class']\n",
    "top_tag_class"
   ]
  },
  {
   "cell_type": "code",
   "execution_count": 17,
   "id": "2120e36f-134a-46ad-a812-f9237fc630dc",
   "metadata": {},
   "outputs": [
    {
     "data": {
      "text/plain": [
       "'font-size: 28px'"
      ]
     },
     "execution_count": 17,
     "metadata": {},
     "output_type": "execute_result"
    }
   ],
   "source": [
    "top_tag_style = top_tag_a['style']\n",
    "top_tag_style"
   ]
  }
 ],
 "metadata": {
  "kernelspec": {
   "display_name": "Python 3 (ipykernel)",
   "language": "python",
   "name": "python3"
  },
  "language_info": {
   "codemirror_mode": {
    "name": "ipython",
    "version": 3
   },
   "file_extension": ".py",
   "mimetype": "text/x-python",
   "name": "python",
   "nbconvert_exporter": "python",
   "pygments_lexer": "ipython3",
   "version": "3.13.1"
  }
 },
 "nbformat": 4,
 "nbformat_minor": 5
}
